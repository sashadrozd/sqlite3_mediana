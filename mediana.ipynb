{
  "nbformat": 4,
  "nbformat_minor": 0,
  "metadata": {
    "colab": {
      "name": "Untitled0.ipynb",
      "provenance": []
    },
    "kernelspec": {
      "name": "python3",
      "display_name": "Python 3"
    }
  },
  "cells": [
    {
      "cell_type": "code",
      "metadata": {
        "id": "TKAgABdq12pW"
      },
      "source": [
        "import pandas as pd\r\n",
        "import numpy as np\r\n",
        "import sqlite3\r\n",
        "sqlite3.sqlite_version"
      ],
      "execution_count": 35,
      "outputs": []
    },
    {
      "cell_type": "code",
      "metadata": {
        "colab": {
          "base_uri": "https://localhost:8080/",
          "height": 283
        },
        "id": "ShDwxxwb8Y9r",
        "outputId": "bbbcd54f-b484-4712-fdf0-68407ba8bea9"
      },
      "source": [
        "pd.Series(np.random.poisson(30, size=100)).hist()"
      ],
      "execution_count": 12,
      "outputs": [
        {
          "output_type": "execute_result",
          "data": {
            "text/plain": [
              "<matplotlib.axes._subplots.AxesSubplot at 0x7ff516e4c908>"
            ]
          },
          "metadata": {
            "tags": []
          },
          "execution_count": 12
        },
        {
          "output_type": "display_data",
          "data": {
            "image/png": "[encoded data removed]",
            "text/plain": [
              "<Figure size 432x288 with 1 Axes>"
            ]
          },
          "metadata": {
            "tags": [],
            "needs_background": "light"
          }
        }
      ]
    },
    {
      "cell_type": "code",
      "metadata": {
        "id": "5imt_9_w8xUr"
      },
      "source": [
        "dt = pd.DataFrame({'dt': pd.date_range('2020-04-01', '2020-05-31')})\r\n",
        "dt['num'] = np.random.poisson(30, size=len(dt))"
      ],
      "execution_count": 60,
      "outputs": []
    },
    {
      "cell_type": "code",
      "metadata": {
        "id": "Yo6U0fla-B7k"
      },
      "source": [
        "df = pd.DataFrame({'sale_dttm': (dt['dt'].apply(lambda x: [x])* dt['num']).sum()})\r\n",
        "df['card_number'] = pd.Series(list(range(40))+[np.nan]*10).sample(df.shape[0], replace=True).values\r\n",
        "df['coffee_type'] = pd.Series(['espresso', 'americano','cappuccino','cappuccino', 'cappuccino', 'latte']).sample(len(df),replace=True).values"
      ],
      "execution_count": 92,
      "outputs": []
    },
    {
      "cell_type": "code",
      "metadata": {
        "id": "G_zASH7XA_5z"
      },
      "source": [
        "coffee_price = pd.DataFrame({'espresso': [100] , 'americano': [120],'cappuccino': [130], 'latte': [150]}).T.reset_index()\r\n",
        "coffee_price.columns = ['coffee_type', 'coffee_price']\r\n",
        "df = df.merge(coffee_price, how='left', on='coffee_type')\r\n",
        "df['discount'] = pd.Series([0,0,0,0,0,0.5,0.5,0.5,0.1,0.15]).sample(len(df),replace=True).values\r\n",
        "df['grocery_flg'] = pd.Series([0,0,0,1]).sample(len(df),replace=True).values\r\n",
        "df['price'] = (df['coffee_price'] + df['grocery_flg']*100)*(1-df['discount'])"
      ],
      "execution_count": 93,
      "outputs": []
    },
    {
      "cell_type": "code",
      "metadata": {
        "colab": {
          "base_uri": "https://localhost:8080/",
          "height": 411
        },
        "id": "oLZ3ynDyBhkN",
        "outputId": "6709af2c-e231-4707-f0c6-984c8e5ac57e"
      },
      "source": [
        "df"
      ],
      "execution_count": 94,
      "outputs": [
        {
          "output_type": "execute_result",
          "data": {
            "text/html": [
              "<div>\n",
              "<style scoped>\n",
              "    .dataframe tbody tr th:only-of-type {\n",
              "        vertical-align: middle;\n",
              "    }\n",
              "\n",
              "    .dataframe tbody tr th {\n",
              "        vertical-align: top;\n",
              "    }\n",
              "\n",
              "    .dataframe thead th {\n",
              "        text-align: right;\n",
              "    }\n",
              "</style>\n",
              "<table border=\"1\" class=\"dataframe\">\n",
              "  <thead>\n",
              "    <tr style=\"text-align: right;\">\n",
              "      <th></th>\n",
              "      <th>sale_dttm</th>\n",
              "      <th>card_number</th>\n",
              "      <th>coffee_type</th>\n",
              "      <th>coffee_price</th>\n",
              "      <th>discount</th>\n",
              "      <th>grocery_flg</th>\n",
              "      <th>price</th>\n",
              "    </tr>\n",
              "  </thead>\n",
              "  <tbody>\n",
              "    <tr>\n",
              "      <th>0</th>\n",
              "      <td>2020-04-01</td>\n",
              "      <td>5.0</td>\n",
              "      <td>cappuccino</td>\n",
              "      <td>130</td>\n",
              "      <td>0.00</td>\n",
              "      <td>0</td>\n",
              "      <td>130.0</td>\n",
              "    </tr>\n",
              "    <tr>\n",
              "      <th>1</th>\n",
              "      <td>2020-04-01</td>\n",
              "      <td>27.0</td>\n",
              "      <td>cappuccino</td>\n",
              "      <td>130</td>\n",
              "      <td>0.00</td>\n",
              "      <td>0</td>\n",
              "      <td>130.0</td>\n",
              "    </tr>\n",
              "    <tr>\n",
              "      <th>2</th>\n",
              "      <td>2020-04-01</td>\n",
              "      <td>2.0</td>\n",
              "      <td>latte</td>\n",
              "      <td>150</td>\n",
              "      <td>0.50</td>\n",
              "      <td>0</td>\n",
              "      <td>75.0</td>\n",
              "    </tr>\n",
              "    <tr>\n",
              "      <th>3</th>\n",
              "      <td>2020-04-01</td>\n",
              "      <td>0.0</td>\n",
              "      <td>latte</td>\n",
              "      <td>150</td>\n",
              "      <td>0.00</td>\n",
              "      <td>0</td>\n",
              "      <td>150.0</td>\n",
              "    </tr>\n",
              "    <tr>\n",
              "      <th>4</th>\n",
              "      <td>2020-04-01</td>\n",
              "      <td>38.0</td>\n",
              "      <td>americano</td>\n",
              "      <td>120</td>\n",
              "      <td>0.50</td>\n",
              "      <td>0</td>\n",
              "      <td>60.0</td>\n",
              "    </tr>\n",
              "    <tr>\n",
              "      <th>...</th>\n",
              "      <td>...</td>\n",
              "      <td>...</td>\n",
              "      <td>...</td>\n",
              "      <td>...</td>\n",
              "      <td>...</td>\n",
              "      <td>...</td>\n",
              "      <td>...</td>\n",
              "    </tr>\n",
              "    <tr>\n",
              "      <th>1819</th>\n",
              "      <td>2020-05-31</td>\n",
              "      <td>12.0</td>\n",
              "      <td>americano</td>\n",
              "      <td>120</td>\n",
              "      <td>0.00</td>\n",
              "      <td>0</td>\n",
              "      <td>120.0</td>\n",
              "    </tr>\n",
              "    <tr>\n",
              "      <th>1820</th>\n",
              "      <td>2020-05-31</td>\n",
              "      <td>27.0</td>\n",
              "      <td>latte</td>\n",
              "      <td>150</td>\n",
              "      <td>0.00</td>\n",
              "      <td>1</td>\n",
              "      <td>250.0</td>\n",
              "    </tr>\n",
              "    <tr>\n",
              "      <th>1821</th>\n",
              "      <td>2020-05-31</td>\n",
              "      <td>27.0</td>\n",
              "      <td>latte</td>\n",
              "      <td>150</td>\n",
              "      <td>0.15</td>\n",
              "      <td>1</td>\n",
              "      <td>212.5</td>\n",
              "    </tr>\n",
              "    <tr>\n",
              "      <th>1822</th>\n",
              "      <td>2020-05-31</td>\n",
              "      <td>3.0</td>\n",
              "      <td>cappuccino</td>\n",
              "      <td>130</td>\n",
              "      <td>0.10</td>\n",
              "      <td>0</td>\n",
              "      <td>117.0</td>\n",
              "    </tr>\n",
              "    <tr>\n",
              "      <th>1823</th>\n",
              "      <td>2020-05-31</td>\n",
              "      <td>5.0</td>\n",
              "      <td>cappuccino</td>\n",
              "      <td>130</td>\n",
              "      <td>0.00</td>\n",
              "      <td>0</td>\n",
              "      <td>130.0</td>\n",
              "    </tr>\n",
              "  </tbody>\n",
              "</table>\n",
              "<p>1824 rows × 7 columns</p>\n",
              "</div>"
            ],
            "text/plain": [
              "      sale_dttm  card_number coffee_type  ...  discount  grocery_flg  price\n",
              "0    2020-04-01          5.0  cappuccino  ...      0.00            0  130.0\n",
              "1    2020-04-01         27.0  cappuccino  ...      0.00            0  130.0\n",
              "2    2020-04-01          2.0       latte  ...      0.50            0   75.0\n",
              "3    2020-04-01          0.0       latte  ...      0.00            0  150.0\n",
              "4    2020-04-01         38.0   americano  ...      0.50            0   60.0\n",
              "...         ...          ...         ...  ...       ...          ...    ...\n",
              "1819 2020-05-31         12.0   americano  ...      0.00            0  120.0\n",
              "1820 2020-05-31         27.0       latte  ...      0.00            1  250.0\n",
              "1821 2020-05-31         27.0       latte  ...      0.15            1  212.5\n",
              "1822 2020-05-31          3.0  cappuccino  ...      0.10            0  117.0\n",
              "1823 2020-05-31          5.0  cappuccino  ...      0.00            0  130.0\n",
              "\n",
              "[1824 rows x 7 columns]"
            ]
          },
          "metadata": {
            "tags": []
          },
          "execution_count": 94
        }
      ]
    },
    {
      "cell_type": "code",
      "metadata": {
        "id": "RSfLmsqkD2d3"
      },
      "source": [
        "con = sqlite3.connect('db')"
      ],
      "execution_count": 95,
      "outputs": []
    },
    {
      "cell_type": "code",
      "metadata": {
        "id": "9shzekPPD3Gd"
      },
      "source": [
        "df.to_sql('coffee_sales', con, index=False, if_exists='replace')"
      ],
      "execution_count": 96,
      "outputs": []
    },
    {
      "cell_type": "code",
      "metadata": {
        "id": "pe8WCAf9JsJj"
      },
      "source": [
        "sql = ''' select * from coffee_sales t limit 10 '''"
      ],
      "execution_count": 66,
      "outputs": []
    },
    {
      "cell_type": "code",
      "metadata": {
        "id": "qHJgBfViJ31g"
      },
      "source": [
        "def select (sql):\r\n",
        "  return pd.read_sql(sql,con)"
      ],
      "execution_count": 68,
      "outputs": []
    },
    {
      "cell_type": "code",
      "metadata": {
        "id": "lBfsFE4kKGvI"
      },
      "source": [
        "sql = ''' select month, avg(price) as mean, \r\n",
        "          from (select date(t.sale_dttm, 'start of month') as month, t.card_number, sum(t.price) as price\r\n",
        "                from coffee_sales t\r\n",
        "                group by date(t.sale_dttm, 'start of month'), t.card_number)\r\n",
        "          group by month'''\r\n"
      ],
      "execution_count": 99,
      "outputs": []
    },
    {
      "cell_type": "code",
      "metadata": {
        "colab": {
          "base_uri": "https://localhost:8080/",
          "height": 109
        },
        "id": "moTFes7XKVUJ",
        "outputId": "4934ec2e-7f4f-4255-ddc1-dcab5f303b9e"
      },
      "source": [
        "select (sql)"
      ],
      "execution_count": 100,
      "outputs": [
        {
          "output_type": "execute_result",
          "data": {
            "text/html": [
              "<div>\n",
              "<style scoped>\n",
              "    .dataframe tbody tr th:only-of-type {\n",
              "        vertical-align: middle;\n",
              "    }\n",
              "\n",
              "    .dataframe tbody tr th {\n",
              "        vertical-align: top;\n",
              "    }\n",
              "\n",
              "    .dataframe thead th {\n",
              "        text-align: right;\n",
              "    }\n",
              "</style>\n",
              "<table border=\"1\" class=\"dataframe\">\n",
              "  <thead>\n",
              "    <tr style=\"text-align: right;\">\n",
              "      <th></th>\n",
              "      <th>month</th>\n",
              "      <th>mean</th>\n",
              "    </tr>\n",
              "  </thead>\n",
              "  <tbody>\n",
              "    <tr>\n",
              "      <th>0</th>\n",
              "      <td>2020-04-01</td>\n",
              "      <td>2729.719512</td>\n",
              "    </tr>\n",
              "    <tr>\n",
              "      <th>1</th>\n",
              "      <td>2020-05-01</td>\n",
              "      <td>2848.219512</td>\n",
              "    </tr>\n",
              "  </tbody>\n",
              "</table>\n",
              "</div>"
            ],
            "text/plain": [
              "        month         mean\n",
              "0  2020-04-01  2729.719512\n",
              "1  2020-05-01  2848.219512"
            ]
          },
          "metadata": {
            "tags": []
          },
          "execution_count": 100
        }
      ]
    },
    {
      "cell_type": "code",
      "metadata": {
        "id": "1yBu9QigL9ct"
      },
      "source": [
        ""
      ],
      "execution_count": null,
      "outputs": []
    }
  ]
}